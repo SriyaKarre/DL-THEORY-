{
 "cells": [
  {
   "cell_type": "markdown",
   "id": "866f7a37",
   "metadata": {},
   "source": [
    "1. Deep Learning.\n",
    "\n",
    "a. Build a DNN with five hidden layers of 100 neurons each, He initialization, and the ELU activation function.\n",
    "\n",
    "b. Using Adam optimization and early stopping, try training it on MNIST but only on digits 0 to 4, as we will use transfer learning for digits 5 to 9 in the next exercise. You will need a softmax output layer with five neurons, and as always make sure to save checkpoints at regular intervals and save the final model so you can reuse it later.\n",
    "\n",
    "c. Tune the hyperparameters using cross-validation and see what precision you can achieve.\n",
    "\n",
    "d. Now try adding Batch Normalization and compare the learning curves: is it converging faster than before? Does it produce a better model?\n",
    "\n",
    "e. Is the model overfitting the training set? Try adding dropout to every layer and try again. Does it help?\n",
    "\n",
    "Ans: a. Build a DNN with five hidden layers of 100 neurons each, He initialization, and the ELU activation function."
   ]
  },
  {
   "cell_type": "code",
   "execution_count": null,
   "id": "3cd68782",
   "metadata": {},
   "outputs": [],
   "source": [
    "import tensorflow as tf\n",
    "from functools import partial"
   ]
  },
  {
   "cell_type": "code",
   "execution_count": null,
   "id": "21cd967b",
   "metadata": {},
   "outputs": [],
   "source": [
    "# Define the number of inputs and outputs\n",
    "n_inputs = 28 * 28 # MNIST\n",
    "n_outputs = 10"
   ]
  },
  {
   "cell_type": "code",
   "execution_count": null,
   "id": "370e2448",
   "metadata": {},
   "outputs": [],
   "source": [
    "# Define the number of neurons in each hidden layer\n",
    "n_hidden1 = 100\n",
    "n_hidden2 = 100\n",
    "n_hidden3 = 100\n",
    "n_hidden4 = 100\n",
    "n_hidden5 = 100"
   ]
  },
  {
   "cell_type": "code",
   "execution_count": null,
   "id": "584106cb",
   "metadata": {},
   "outputs": [],
   "source": [
    "# Define the initializer and activation function to use\n",
    "he_init = tf.keras.initializers.VarianceScaling(scale=2., mode='fan_avg', distribution='uniform')\n",
    "elu_activation = tf.keras.activations.elu"
   ]
  },
  {
   "cell_type": "code",
   "execution_count": null,
   "id": "056635c8",
   "metadata": {},
   "outputs": [],
   "source": [
    "# Create the model using the Sequential API\n",
    "model = tf.keras.models.Sequential([\n",
    "    tf.keras.layers.Flatten(input_shape=[28, 28]), # Flatten the input data\n",
    "    tf.keras.layers.Dense(n_hidden1, activation=elu_activation, kernel_initializer=he_init), # First hidden layer\n",
    "    tf.keras.layers.Dense(n_hidden2, activation=elu_activation, kernel_initializer=he_init), # Second hidden layer\n",
    "    tf.keras.layers.Dense(n_hidden3, activation=elu_activation, kernel_initializer=he_init), # Third hidden layer\n",
    "    tf.keras.layers.Dense(n_hidden4, activation=elu_activation, kernel_initializer=he_init), # Fourth hidden layer\n",
    "    tf.keras.layers.Dense(n_hidden5, activation=elu_activation, kernel_initializer=he_init), # Fifth hidden layer\n",
    "    tf.keras.layers.Dense(n_outputs) # Output layer\n",
    "])"
   ]
  },
  {
   "cell_type": "markdown",
   "id": "247403a0",
   "metadata": {},
   "source": [
    "b. Using Adam optimization and early stopping, try training it on MNIST but only on digits 0 to 4, as we will use transfer learning for digits 5 to 9 in the next exercise. You will need a softmax output layer with five neurons, and as always make sure to save checkpoints at regular intervals and save the final model so you can reuse it later.\n",
    "\n",
    "Ans:"
   ]
  },
  {
   "cell_type": "code",
   "execution_count": null,
   "id": "aac198c9",
   "metadata": {},
   "outputs": [],
   "source": [
    "from tensorflow import keras\n",
    "import numpy as np"
   ]
  },
  {
   "cell_type": "code",
   "execution_count": null,
   "id": "bd17ef50",
   "metadata": {},
   "outputs": [],
   "source": [
    "# Load MNIST dataset\n",
    "(X_train_full, y_train_full), (X_test, y_test) = keras.datasets.mnist.load_data()"
   ]
  },
  {
   "cell_type": "code",
   "execution_count": null,
   "id": "fb26c87f",
   "metadata": {},
   "outputs": [],
   "source": [
    "# Scale the data\n",
    "X_train_full = X_train_full / 255.0\n",
    "X_test = X_test / 255.0"
   ]
  },
  {
   "cell_type": "code",
   "execution_count": null,
   "id": "2ff7fb5d",
   "metadata": {},
   "outputs": [],
   "source": [
    "# Create a validation set and training set\n",
    "X_valid, X_train = X_train_full[:5000], X_train_full[5000:]\n",
    "y_valid, y_train = y_train_full[:5000], y_train_full[5000:]"
   ]
  },
  {
   "cell_type": "code",
   "execution_count": null,
   "id": "6dae8d63",
   "metadata": {},
   "outputs": [],
   "source": [
    "# Only keep digits 0 to 4 in the training and validation sets\n",
    "X_train = X_train[y_train < 5]\n",
    "y_train = y_train[y_train < 5]\n",
    "X_valid = X_valid[y_valid < 5]\n",
    "y_valid = y_valid[y_valid < 5]"
   ]
  },
  {
   "cell_type": "code",
   "execution_count": null,
   "id": "99b60b5b",
   "metadata": {},
   "outputs": [],
   "source": [
    "# Build the model\n",
    "model = keras.models.Sequential([\n",
    "    keras.layers.Flatten(input_shape=[28, 28]),\n",
    "    keras.layers.Dense(300, activation=\"relu\"),\n",
    "    keras.layers.Dense(100, activation=\"relu\"),\n",
    "    keras.layers.Dense(5, activation=\"softmax\")\n",
    "])"
   ]
  },
  {
   "cell_type": "code",
   "execution_count": null,
   "id": "92200566",
   "metadata": {},
   "outputs": [],
   "source": [
    "# Build the model\n",
    "model = keras.models.Sequential([\n",
    "    keras.layers.Flatten(input_shape=[28, 28]),\n",
    "    keras.layers.Dense(300, activation=\"relu\"),\n",
    "    keras.layers.Dense(100, activation=\"relu\"),\n",
    "    keras.layers.Dense(5, activation=\"softmax\")\n",
    "])"
   ]
  },
  {
   "cell_type": "code",
   "execution_count": null,
   "id": "43868ace",
   "metadata": {},
   "outputs": [],
   "source": [
    "# Define early stopping\n",
    "early_stopping_cb = keras.callbacks.EarlyStopping(patience=10,\n",
    "                                                  restore_best_weights=True)"
   ]
  },
  {
   "cell_type": "code",
   "execution_count": null,
   "id": "66ffd46e",
   "metadata": {},
   "outputs": [],
   "source": [
    "# Train the model\n",
    "history = model.fit(X_train, y_train, epochs=30,\n",
    "                    validation_data=(X_valid, y_valid),\n",
    "                    callbacks=[early_stopping_cb])"
   ]
  },
  {
   "cell_type": "code",
   "execution_count": null,
   "id": "9c0064cf",
   "metadata": {},
   "outputs": [],
   "source": [
    "# Save the final model\n",
    "model.save(\"my_mnist_model.h5\")"
   ]
  },
  {
   "cell_type": "markdown",
   "id": "ef4a791c",
   "metadata": {},
   "source": [
    "c. Tune the hyperparameters using cross-validation and see what precision you can achieve.\n",
    "\n",
    "Ans:"
   ]
  },
  {
   "cell_type": "code",
   "execution_count": null,
   "id": "f4035143",
   "metadata": {},
   "outputs": [],
   "source": [
    "from tensorflow import keras\n",
    "from sklearn.model_selection import GridSearchCV\n",
    "from sklearn.metrics import precision_score, make_scorer\n",
    "import numpy as np"
   ]
  },
  {
   "cell_type": "code",
   "execution_count": null,
   "id": "037584c6",
   "metadata": {},
   "outputs": [],
   "source": [
    "# Load MNIST dataset\n",
    "(X_train_full, y_train_full), (X_test, y_test) = keras.datasets.mnist.load_data()"
   ]
  },
  {
   "cell_type": "code",
   "execution_count": null,
   "id": "87780b26",
   "metadata": {},
   "outputs": [],
   "source": [
    "# Load MNIST dataset\n",
    "(X_train_full, y_train_full), (X_test, y_test) = keras.datasets.mnist.load_data()"
   ]
  },
  {
   "cell_type": "code",
   "execution_count": null,
   "id": "19d15d36",
   "metadata": {},
   "outputs": [],
   "source": [
    "# Create a validation set and training set\n",
    "X_valid, X_train = X_train_full[:5000], X_train_full[5000:]\n",
    "y_valid, y_train = y_train_full[:5000], y_train_full[5000:]"
   ]
  },
  {
   "cell_type": "code",
   "execution_count": null,
   "id": "ee7e1481",
   "metadata": {},
   "outputs": [],
   "source": [
    "# Only keep digits 0 to 4 in the training and validation sets\n",
    "X_train = X_train[y_train < 5]\n",
    "y_train = y_train[y_train < 5]\n",
    "X_valid = X_valid[y_valid < 5]\n",
    "y_valid = y_valid[y_valid < 5]"
   ]
  },
  {
   "cell_type": "code",
   "execution_count": null,
   "id": "d18878e0",
   "metadata": {},
   "outputs": [],
   "source": [
    "# Build a function to create the model\n",
    "def build_model(n_hidden=1, n_neurons=30, learning_rate=3e-3):\n",
    "    model = keras.models.Sequential()\n",
    "    model.add(keras.layers.Flatten(input_shape=[28, 28]))\n",
    "    for layer in range(n_hidden):\n",
    "        model.add(keras.layers.Dense(n_neurons, activation=\"relu\"))\n",
    "    model.add(keras.layers.Dense(5, activation=\"softmax\"))\n",
    "    optimizer = keras.optimizers.Adam(lr=learning_rate)\n",
    "    model.compile(loss=\"sparse_categorical_crossentropy\", optimizer=optimizer,\n",
    "                  metrics=[\"accuracy\"])\n",
    "    return model"
   ]
  },
  {
   "cell_type": "code",
   "execution_count": null,
   "id": "3a1f149c",
   "metadata": {},
   "outputs": [],
   "source": [
    "# Create a KerasClassifier object\n",
    "keras_clf = keras.wrappers.scikit_learn.KerasClassifier(build_model)"
   ]
  },
  {
   "cell_type": "code",
   "execution_count": null,
   "id": "439ebccc",
   "metadata": {},
   "outputs": [],
   "source": [
    "# Define the hyperparameters to search over\n",
    "param_grid = {\n",
    "    \"n_hidden\": [1, 2],\n",
    "    \"n_neurons\": [10, 30],\n",
    "    \"learning_rate\": [3e-4, 3e-3]\n",
    "}"
   ]
  },
  {
   "cell_type": "code",
   "execution_count": null,
   "id": "83796c93",
   "metadata": {},
   "outputs": [],
   "source": [
    "# Create a GridSearchCV object\n",
    "grid_search_cv = GridSearchCV(keras_clf, param_grid,\n",
    "                              cv=3,\n",
    "                              scoring=make_scorer(precision_score,\n",
    "                                                  average='weighted'))"
   ]
  },
  {
   "cell_type": "code",
   "execution_count": null,
   "id": "414ffd3d",
   "metadata": {},
   "outputs": [],
   "source": [
    "# Fit the GridSearchCV object to the data\n",
    "grid_search_cv.fit(X_train, y_train,\n",
    "                   validation_data=(X_valid, y_valid),\n",
    "                   callbacks=[keras.callbacks.EarlyStopping(patience=10)])"
   ]
  },
  {
   "cell_type": "code",
   "execution_count": null,
   "id": "79bf3391",
   "metadata": {},
   "outputs": [],
   "source": [
    "GridSearchCV(cv=3,\n",
    "             estimator=<tensorflow.python.keras.wrappers.scikit_learn.KerasClassifier object at 0x0000021C70483CD0>,\n",
    "             param_grid={'learning_rate': [0.0003, 0.003], 'n_hidden': [1, 2],\n",
    "                         'n_neurons': [10, 30]},\n",
    "             scoring=make_scorer(precision_score, average=weighted))\n",
    "In a Jupyter environment, please rerun this cell to show the HTML representation or trust the notebook.\n",
    "On GitHub, the HTML representation is unable to render, please try loading this page with nbviewer.org.\n"
   ]
  },
  {
   "cell_type": "code",
   "execution_count": null,
   "id": "af7f3e5f",
   "metadata": {},
   "outputs": [],
   "source": [
    "# Print the best hyperparameters\n",
    "print(grid_search_cv.best_params_)"
   ]
  },
  {
   "cell_type": "markdown",
   "id": "b515e49a",
   "metadata": {},
   "source": [
    "d. Now try adding Batch Normalization and compare the learning curves: is it converging faster than before? Does it produce a better model?\n",
    "\n",
    "Ans:"
   ]
  },
  {
   "cell_type": "code",
   "execution_count": null,
   "id": "4bc11783",
   "metadata": {},
   "outputs": [],
   "source": [
    "# Build DNN with Batch Normalization\n",
    "model = keras.models.Sequential([\n",
    "    keras.layers.Flatten(input_shape=[28, 28]),\n",
    "    keras.layers.BatchNormalization(),\n",
    "    keras.layers.Dense(100, activation=\"elu\", kernel_initializer=\"he_normal\"),\n",
    "    keras.layers.BatchNormalization(),\n",
    "    keras.layers.Dense(100, activation=\"elu\", kernel_initializer=\"he_normal\"),\n",
    "    keras.layers.BatchNormalization(),\n",
    "    keras.layers.Dense(100, activation=\"elu\", kernel_initializer=\"he_normal\"),\n",
    "    keras.layers.BatchNormalization(),\n",
    "    keras.layers.Dense(100, activation=\"elu\", kernel_initializer=\"he_normal\"),\n",
    "    keras.layers.BatchNormalization(),\n",
    "    keras.layers.Dense(5, activation=\"softmax\")\n",
    "])"
   ]
  },
  {
   "cell_type": "code",
   "execution_count": null,
   "id": "233e22df",
   "metadata": {},
   "outputs": [],
   "source": [
    "# Compile model\n",
    "model.compile(loss=\"sparse_categorical_crossentropy\",\n",
    "              optimizer=keras.optimizers.Adam(),\n",
    "              metrics=[\"accuracy\"])"
   ]
  },
  {
   "cell_type": "code",
   "execution_count": null,
   "id": "c2234641",
   "metadata": {},
   "outputs": [],
   "source": [
    "# Train model\n",
    "history_bn = model.fit(X_train, y_train, epochs=100, batch_size=32,\n",
    "                       validation_data=(X_valid, y_valid),\n",
    "                       callbacks=[early_stopping_cb])"
   ]
  },
  {
   "cell_type": "code",
   "execution_count": null,
   "id": "43ed6df6",
   "metadata": {},
   "outputs": [],
   "source": [
    "import matplotlib.pyplot as plt"
   ]
  },
  {
   "cell_type": "code",
   "execution_count": null,
   "id": "42b50cd7",
   "metadata": {},
   "outputs": [],
   "source": [
    "# Plot learning curves\n",
    "def plot_learning_curves(history, label=None):\n",
    "    plt.plot(history.history[\"loss\"], label=label + \" training\")\n",
    "    plt.plot(history.history[\"val_loss\"], label=label + \" validation\")\n",
    "    plt.legend()\n",
    "    plt.title(\"Learning curves\")\n",
    "    plt.xlabel(\"Epochs\")\n",
    "    plt.ylabel(\"Loss\")\n",
    "    plt.show()\n",
    "\n",
    "plot_learning_curves(history, label=\"Original\")\n",
    "plot_learning_curves(history_bn, label=\"Batch Normalization\")"
   ]
  },
  {
   "cell_type": "markdown",
   "id": "ccb5d78c",
   "metadata": {},
   "source": [
    "e. Is the model overfitting the training set? Try adding dropout to every layer and try again. Does it help?\n",
    "\n",
    "Ans:"
   ]
  },
  {
   "cell_type": "code",
   "execution_count": null,
   "id": "bfae684a",
   "metadata": {},
   "outputs": [],
   "source": [
    "# Build DNN with Dropout\n",
    "model = keras.models.Sequential([\n",
    "    keras.layers.Flatten(input_shape=[28, 28]),\n",
    "    keras.layers.Dropout(rate=0.2),\n",
    "    keras.layers.Dense(100, activation=\"elu\", kernel_initializer=\"he_normal\"),\n",
    "    keras.layers.Dropout(rate=0.2),\n",
    "    keras.layers.Dense(100, activation=\"elu\", kernel_initializer=\"he_normal\"),\n",
    "    keras.layers.Dropout(rate=0.2),\n",
    "    keras.layers.Dense(100, activation=\"elu\", kernel_initializer=\"he_normal\"),\n",
    "    keras.layers.Dropout(rate=0.2),\n",
    "    keras.layers.Dense(100, activation=\"elu\", kernel_initializer=\"he_normal\"),\n",
    "    keras.layers.Dropout(rate=0.2),\n",
    "    keras.layers.Dense(5, activation=\"softmax\")\n",
    "])"
   ]
  },
  {
   "cell_type": "code",
   "execution_count": null,
   "id": "a09d2ba0",
   "metadata": {},
   "outputs": [],
   "source": [
    "# Compile model\n",
    "model.compile(loss=\"sparse_categorical_crossentropy\",\n",
    "              optimizer=keras.optimizers.Adam(),\n",
    "              metrics=[\"accuracy\"])"
   ]
  },
  {
   "cell_type": "code",
   "execution_count": null,
   "id": "5cc82f21",
   "metadata": {},
   "outputs": [],
   "source": [
    "# Train model\n",
    "history_dropout = model.fit(X_train, y_train, epochs=100, batch_size=32,\n",
    "                            validation_data=(X_valid, y_valid),\n",
    "                            callbacks=[early_stopping_cb])"
   ]
  },
  {
   "cell_type": "code",
   "execution_count": null,
   "id": "c9d498e7",
   "metadata": {},
   "outputs": [],
   "source": [
    "plot_learning_curves(history_bn, label=\"Batch Normalization\")\n",
    "plot_learning_curves(history_dropout, label=\"Dropout\")"
   ]
  },
  {
   "cell_type": "markdown",
   "id": "2aa68ccd",
   "metadata": {},
   "source": [
    "2. Transfer learning.\n",
    "\n",
    "a. Create a new DNN that reuses all the pretrained hidden layers of the previous model, freezes them, and replaces the softmax output layer with a new one.\n",
    "\n",
    "b. Train this new DNN on digits 5 to 9, using only 100 images per digit, and time how long it takes. Despite this small number of examples, can you achieve high precision?\n",
    "\n",
    "c. Try caching the frozen layers, and train the model again: how much faster is it now?\n",
    "\n",
    "d. Try again reusing just four hidden layers instead of five. Can you achieve a higher precision?\n",
    "\n",
    "e. Now unfreeze the top two hidden layers and continue training: can you get the model to perform even better?\n",
    "\n",
    "Ans:"
   ]
  },
  {
   "cell_type": "code",
   "execution_count": null,
   "id": "8ec6d476",
   "metadata": {},
   "outputs": [],
   "source": [
    "import tensorflow as tf\n",
    "from tensorflow import keras"
   ]
  },
  {
   "cell_type": "code",
   "execution_count": null,
   "id": "2f1adb45",
   "metadata": {},
   "outputs": [],
   "source": [
    "# Load the pretrained model\n",
    "pretrained_model = keras.models.load_model(\"my_mnist_model.h5\")\n",
    "pretrained_model.summary()"
   ]
  },
  {
   "cell_type": "code",
   "execution_count": null,
   "id": "361e426e",
   "metadata": {},
   "outputs": [],
   "source": [
    "# Create a new DNN that reuses all the pretrained hidden layers of the previous model\n",
    "new_model = keras.models.Sequential(pretrained_model.layers[:-1])"
   ]
  },
  {
   "cell_type": "code",
   "execution_count": null,
   "id": "a3da2fdb",
   "metadata": {},
   "outputs": [],
   "source": [
    "# Freeze the reused layers\n",
    "for layer in new_model.layers:\n",
    "    layer.trainable = False"
   ]
  },
  {
   "cell_type": "code",
   "execution_count": null,
   "id": "3d2df178",
   "metadata": {},
   "outputs": [],
   "source": [
    "# Add a new softmax output layer with the desired number of units\n",
    "new_model.add(keras.layers.Dense(5, activation=\"softmax\"))"
   ]
  },
  {
   "cell_type": "code",
   "execution_count": null,
   "id": "e1d3745c",
   "metadata": {},
   "outputs": [],
   "source": [
    "# Compile the new model\n",
    "new_model.compile(loss=\"sparse_categorical_crossentropy\", optimizer=\"sgd\", metrics=[\"accuracy\"])"
   ]
  },
  {
   "cell_type": "code",
   "execution_count": null,
   "id": "b5f89f82",
   "metadata": {},
   "outputs": [],
   "source": [
    "# Load the training data for digits 5 to 9\n",
    "(X_train, y_train), (X_test, y_test) = keras.datasets.mnist.load_data()\n",
    "X_train = X_train[y_train >= 5]\n",
    "y_train = y_train[y_train >= 5] - 5\n",
    "X_test = X_test[y_test >= 5]\n",
    "y_test = y_test[y_test >= 5] - 5"
   ]
  },
  {
   "cell_type": "code",
   "execution_count": null,
   "id": "c9a8b08f",
   "metadata": {},
   "outputs": [],
   "source": [
    "# Train the new model on digits 5 to 9 using only 100 images per digit\n",
    "history = new_model.fit(X_train[:500], y_train[:500], epochs=10, validation_data=(X_test, y_test))"
   ]
  },
  {
   "cell_type": "code",
   "execution_count": null,
   "id": "aa73f6fb",
   "metadata": {},
   "outputs": [],
   "source": [
    "# Train the new model on digits 5 to 9 using only 100 images per digit\n",
    "history = new_model.fit(X_train[:500], y_train[:500], epochs=10, validation_data=(X_test, y_test))"
   ]
  },
  {
   "cell_type": "code",
   "execution_count": null,
   "id": "c724dd92",
   "metadata": {},
   "outputs": [],
   "source": [
    "# Train the new model on digits 5 to 9 using only 100 images per digit\n",
    "history = new_model.fit(X_train[:500], y_train[:500], epochs=10, validation_data=(X_test, y_test))"
   ]
  },
  {
   "cell_type": "code",
   "execution_count": null,
   "id": "ad42ba11",
   "metadata": {},
   "outputs": [],
   "source": [
    "# Try again reusing just four hidden layers instead of five\n",
    "new_model2 = keras.models.Sequential(pretrained_model.layers[:-2])\n",
    "for layer in new_model2.layers:\n",
    "    layer.trainable = False\n",
    "new_model2.add(keras.layers.Dense(5, activation=\"softmax\"))\n",
    "new_model2.compile(loss=\"sparse_categorical_crossentropy\", optimizer=\"sgd\", metrics=[\"accuracy\"])\n",
    "history = new_model2.fit(X_train[:500], y_train[:500], epochs=10, validation_data=(X_test, y_test))"
   ]
  },
  {
   "cell_type": "code",
   "execution_count": null,
   "id": "a09c21c6",
   "metadata": {},
   "outputs": [],
   "source": [
    "# Evaluate the trained model again\n",
    "test_loss, test_acc = new_model2.evaluate(X_test, y_test)\n",
    "print(f\"Test accuracy: {test_acc}\")"
   ]
  },
  {
   "cell_type": "code",
   "execution_count": null,
   "id": "23eac82d",
   "metadata": {},
   "outputs": [],
   "source": [
    "# Now unfreeze the top two hidden layers and continue training\n",
    "for layer in new_model2.layers[-3:]:\n",
    "    layer.trainable = True\n",
    "new_model2.compile(loss=\"sparse_categorical_crossentropy\", optimizer=\"sgd\", metrics=[\"accuracy\"])\n",
    "history = new_model2.fit(X_train[:500], y_train[:500], epochs=10, validation_data=(X_test, y_test))"
   ]
  },
  {
   "cell_type": "code",
   "execution_count": null,
   "id": "811b07f9",
   "metadata": {},
   "outputs": [],
   "source": [
    "# Evaluate the trained model again\n",
    "test_loss, test_acc = new_model2.evaluate(X_test, y_test)\n",
    "print(f\"Test accuracy: {test_acc}\")"
   ]
  },
  {
   "cell_type": "markdown",
   "id": "15f2ed59",
   "metadata": {},
   "source": [
    "3. Pretraining on an auxiliary task.\n",
    "\n",
    "a. In this exercise you will build a DNN that compares two MNIST digit images and predicts whether they represent the same digit or not. Then you will reuse the lower layers of this network to train an MNIST classifier using very little training data. Start by building two DNNs (let’s call them DNN A and B), both similar to the one you built earlier but without the output layer: each DNN should have five hidden layers of 100 neurons each, He initialization, and ELU activation. Next, add one more hidden layer with 10 units on top of both DNNs. To do this, you should use TensorFlow’s concat() function with axis=1 to concatenate the outputs of both DNNs for each instance, then feed the result to the hidden layer. Finally, add an output layer with a single neuron using the logistic activation function.\n",
    "\n",
    "b. Split the MNIST training set in two sets: split #1 should containing 55,000 images, and split #2 should contain contain 5,000 images. Create a function that generates a training batch where each instance is a pair of MNIST images picked from split #1. Half of the training instances should be pairs of images that belong to the same class, while the other half should be images from different classes. For each pair, the training label should be 0 if the images are from the same class, or 1 if they are from different classes.\n",
    "\n",
    "c. Train the DNN on this training set. For each image pair, you can simultaneously feed the first image to DNN A and the second image to DNN B. The whole network will gradually learn to tell whether two images belong to the same class or not.\n",
    "\n",
    "d. Now create a new DNN by reusing and freezing the hidden layers of DNN A and adding a softmax output layer on top with 10 neurons. Train this network on split #2 and see if you can achieve high performance despite having only 500 images per class.\n",
    "\n",
    "Ans:"
   ]
  },
  {
   "cell_type": "code",
   "execution_count": null,
   "id": "f0147bfe",
   "metadata": {},
   "outputs": [],
   "source": [
    "import tensorflow as tf\n",
    "from tensorflow import keras\n",
    "import numpy as np"
   ]
  },
  {
   "cell_type": "code",
   "execution_count": null,
   "id": "53448e5f",
   "metadata": {},
   "outputs": [],
   "source": [
    "# Load the MNIST dataset and split it into two sets\n",
    "(X_train_full, y_train_full), (X_test, y_test) = keras.datasets.mnist.load_data()\n",
    "X_train_full = X_train_full.astype(np.float32) / 255\n",
    "X_test = X_test.astype(np.float32) / 255\n",
    "X_train1 = X_train_full[:55000]\n",
    "y_train1 = y_train_full[:55000]\n",
    "X_train2 = X_train_full[55000:]\n",
    "y_train2 = y_train_full[55000:]"
   ]
  },
  {
   "cell_type": "code",
   "execution_count": null,
   "id": "1c8885d6",
   "metadata": {},
   "outputs": [],
   "source": [
    "# Define a function to generate a training batch where each instance is a pair of MNIST images\n",
    "def generate_batch(batch_size):\n",
    "    X_batch1 = np.empty((batch_size, 28, 28), dtype=np.float32)\n",
    "    X_batch2 = np.empty((batch_size, 28, 28), dtype=np.float32)\n",
    "    y_batch = np.empty((batch_size, 1), dtype=np.int32)\n",
    "    for i in range(batch_size):\n",
    "        index1 = np.random.randint(len(X_train1))\n",
    "        X_batch1[i] = X_train1[index1]\n",
    "        if i % 2 == 0:\n",
    "            # Images from the same class\n",
    "            index2 = index1\n",
    "            while index2 == index1:\n",
    "                index2 = np.random.randint(len(X_train1))\n",
    "                if y_train1[index2] == y_train1[index1]:\n",
    "                    break\n",
    "            y_batch[i] = 0\n",
    "        else:\n",
    "            # Images from different classes\n",
    "            index2 = index1\n",
    "            while index2 == index1 or y_train1[index2] == y_train1[index1]:\n",
    "                index2 = np.random.randint(len(X_train1))\n",
    "            y_batch[i] = 1\n",
    "        X_batch2[i] = X_train1[index2]\n",
    "    return [X_batch1, X_batch2], y_batch"
   ]
  },
  {
   "cell_type": "code",
   "execution_count": null,
   "id": "b08c2aea",
   "metadata": {},
   "outputs": [],
   "source": [
    "# Build two DNNs (let’s call them DNN A and B), both similar to the one you built earlier but without the output layer\n",
    "def build_dnn():\n",
    "    model = keras.models.Sequential()\n",
    "    model.add(keras.layers.Flatten(input_shape=[28, 28]))\n",
    "    for _ in range(5):\n",
    "        model.add(keras.layers.Dense(100, activation=\"elu\", kernel_initializer=\"he_normal\"))\n",
    "    return model\n",
    "\n",
    "dnn_a = build_dnn()\n",
    "dnn_b = build_dnn()"
   ]
  },
  {
   "cell_type": "code",
   "execution_count": null,
   "id": "bf57ac0f",
   "metadata": {},
   "outputs": [],
   "source": [
    "# Add one more hidden layer with 10 units on top of both DNNs\n",
    "merged_output = keras.layers.concatenate([dnn_a.output, dnn_b.output])\n",
    "hidden_layer = keras.layers.Dense(10, activation=\"elu\", kernel_initializer=\"he_normal\")(merged_output)"
   ]
  },
  {
   "cell_type": "code",
   "execution_count": null,
   "id": "35d8101d",
   "metadata": {},
   "outputs": [],
   "source": [
    "# Add one more hidden layer with 10 units on top of both DNNs\n",
    "merged_output = keras.layers.concatenate([dnn_a.output, dnn_b.output])\n",
    "hidden_layer = keras.layers.Dense(10, activation=\"elu\", kernel_initializer=\"he_normal\")(merged_output)"
   ]
  },
  {
   "cell_type": "code",
   "execution_count": null,
   "id": "9d88d4f0",
   "metadata": {},
   "outputs": [],
   "source": [
    "# Create a new model that takes two MNIST images as inputs and outputs a single value representing whether the images belong to the same class or not\n",
    "model = keras.models.Model(inputs=[dnn_a.input, dnn_b.input], outputs=[output_layer])"
   ]
  },
  {
   "cell_type": "code",
   "execution_count": null,
   "id": "cbf2ce13",
   "metadata": {},
   "outputs": [],
   "source": [
    "# Compile the model\n",
    "model.compile(loss=\"binary_crossentropy\", optimizer=\"nadam\", metrics=[\"accuracy\"])"
   ]
  },
  {
   "cell_type": "code",
   "execution_count": null,
   "id": "74b43763",
   "metadata": {},
   "outputs": [],
   "source": [
    "# Train the DNN on this training set\n",
    "batch_size = 32\n",
    "for epoch in range(10):\n",
    "    for iteration in range(len(X_train1) // batch_size):\n",
    "        X_batch, y_batch = generate_batch(batch_size)\n",
    "        model.train_on_batch(X_batch, y_batch)"
   ]
  },
  {
   "cell_type": "code",
   "execution_count": null,
   "id": "c8ddd920",
   "metadata": {},
   "outputs": [],
   "source": [
    "# Create a new DNN by reusing and freezing the hidden layers of DNN A and adding a softmax output layer on top with 10 neurons\n",
    "new_model = keras.models.Sequential(dnn_a.layers[:-1])\n",
    "for layer in new_model.layers:\n",
    "    layer.trainable = False\n",
    "\n",
    "new_model.add(keras.layers.Dense(10, activation=\"softmax\"))"
   ]
  },
  {
   "cell_type": "code",
   "execution_count": null,
   "id": "422f8fc5",
   "metadata": {},
   "outputs": [],
   "source": [
    "# Compile the new model\n",
    "new_model.compile(loss=\"sparse_categorical_crossentropy\", optimizer=\"nadam\", metrics=[\"accuracy\"])"
   ]
  },
  {
   "cell_type": "code",
   "execution_count": null,
   "id": "6eaa5711",
   "metadata": {},
   "outputs": [],
   "source": [
    "# Train this network on split #2 and see if you can achieve high performance despite having only 500 images per class\n",
    "history = new_model.fit(X_train2, y_train2, epochs=10)"
   ]
  },
  {
   "cell_type": "code",
   "execution_count": null,
   "id": "b08cc2f5",
   "metadata": {},
   "outputs": [],
   "source": [
    "# Evaluate the trained model on the test set\n",
    "test_loss, test_acc = new_model.evaluate(X_test, y_test)\n",
    "print(f\"Test accuracy: {test_acc}\")"
   ]
  },
  {
   "cell_type": "code",
   "execution_count": null,
   "id": "d443c606",
   "metadata": {},
   "outputs": [],
   "source": []
  },
  {
   "cell_type": "code",
   "execution_count": null,
   "id": "d1fdb11b",
   "metadata": {},
   "outputs": [],
   "source": []
  },
  {
   "cell_type": "code",
   "execution_count": null,
   "id": "739dcd66",
   "metadata": {},
   "outputs": [],
   "source": []
  }
 ],
 "metadata": {
  "kernelspec": {
   "display_name": "Python 3 (ipykernel)",
   "language": "python",
   "name": "python3"
  },
  "language_info": {
   "codemirror_mode": {
    "name": "ipython",
    "version": 3
   },
   "file_extension": ".py",
   "mimetype": "text/x-python",
   "name": "python",
   "nbconvert_exporter": "python",
   "pygments_lexer": "ipython3",
   "version": "3.9.7"
  }
 },
 "nbformat": 4,
 "nbformat_minor": 5
}
